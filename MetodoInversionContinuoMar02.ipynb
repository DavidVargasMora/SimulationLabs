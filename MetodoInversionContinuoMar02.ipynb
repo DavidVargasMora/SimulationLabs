{
 "cells": [
  {
   "cell_type": "code",
   "execution_count": 7,
   "metadata": {
    "collapsed": false
   },
   "outputs": [
    {
     "name": "stdout",
     "output_type": "stream",
     "text": [
      "Please input the x0 value: 12\n",
      "Please input the v value: 1\n",
      "Please input the amount of random numbers to generate: 10\n",
      "[4.620405532358107, -2.9937769408744, -0.565775948769006, -0.4346339416779003, 0.6616174101681067, -2.798118525794062, -1.7801767908574346, -0.6129763241175754, 3.2984624500876354, 0.08039210491720075]\n"
     ]
    },
    {
     "data": {
      "image/png": "[encoded data removed]",
      "text/plain": [
       "<matplotlib.figure.Figure at 0x3e47e80>"
      ]
     },
     "metadata": {},
     "output_type": "display_data"
    }
   ],
   "source": [
    "%matplotlib inline\n",
    "import matplotlib.pyplot as plt\n",
    "import time\n",
    "import math\n",
    "\n",
    "def random(n):\n",
    "    \n",
    "    lastXn = int(time.clock())+7897857\n",
    "    a = lastXn*8\n",
    "    b = a + 98756465\n",
    "    m = 900217+int(time.clock())\n",
    "    rList = []\n",
    "    for i in range(n):\n",
    "        \n",
    "        Xn = float((a*lastXn + b)% m)\n",
    "        lastXn = Xn\n",
    "        random = float(Xn/m)\n",
    "        rList.append(random)\n",
    "    return rList\n",
    "\n",
    "def genExponencial(n,l):\n",
    "    px = random(n)\n",
    "    xList = []\n",
    "    for i in px:\n",
    "        r =  -math.log(1-i)/l\n",
    "        xList.append(r)\n",
    "    print xList\n",
    "    plt.hist(xList)\n",
    "    \n",
    "def genCauchy(n, xo, v):\n",
    "    px = random(n)\n",
    "    xList = []\n",
    "    for i in px:\n",
    "        r =  math.tan(math.pi*(i-0.5))\n",
    "        xList.append(r)\n",
    "    print xList\n",
    "    plt.hist(xList)\n",
    "    \n",
    "def main():\n",
    "    #Distribucion Exponencial\n",
    "    '''\n",
    "    l = float(raw_input('Please input the lambda value: ')) #l > 0\n",
    "    n = int(raw_input('Please input the amount of random numbers to generate: '))\n",
    "    genExponencial(n,l)\n",
    "    '''\n",
    "    # Distribucion de Cauchy\n",
    "    xo = float(raw_input('Please input the x0 value: '))\n",
    "    v = float(raw_input('Please input the v value: '))\n",
    "    n = int(raw_input('Please input the amount of random numbers to generate: '))\n",
    "    genCauchy(n, xo, v)\n",
    "      \n",
    "main()"
   ]
  },
  {
   "cell_type": "code",
   "execution_count": null,
   "metadata": {
    "collapsed": true
   },
   "outputs": [],
   "source": []
  }
 ],
 "metadata": {
  "kernelspec": {
   "display_name": "Python 2",
   "language": "python",
   "name": "python2"
  },
  "language_info": {
   "codemirror_mode": {
    "name": "ipython",
    "version": 2
   },
   "file_extension": ".py",
   "mimetype": "text/x-python",
   "name": "python",
   "nbconvert_exporter": "python",
   "pygments_lexer": "ipython2",
   "version": "2.7.11"
  }
 },
 "nbformat": 4,
 "nbformat_minor": 0
}
