{
 "cells": [
  {
   "cell_type": "code",
   "execution_count": 7,
   "metadata": {
    "collapsed": false
   },
   "outputs": [
    {
     "name": "stdout",
     "output_type": "stream",
     "text": [
      "How many times do you want to roll the dice?50\n",
      "[2, 1, 4, 6, 1, 3, 2, 2, 4, 5, 1, 2, 5, 6, 4, 5, 6, 1, 5, 4, 6, 1, 2, 3, 1, 1, 3, 4, 1, 4, 3, 1, 1, 3, 6, 2, 1, 3, 5, 3, 2, 3, 6, 3, 1, 6, 2, 1, 1, 4]\n"
     ]
    },
    {
     "data": {
      "image/png": "[encoded data removed]",
      "text/plain": [
       "<matplotlib.figure.Figure at 0x79921d0>"
      ]
     },
     "metadata": {},
     "output_type": "display_data"
    }
   ],
   "source": [
    "%matplotlib inline\n",
    "import matplotlib.pyplot as plt\n",
    "import numpy as np\n",
    "import time\n",
    "def random(n):\n",
    "    \n",
    "    lastXn = 31\n",
    "    a = lastXn*int(time.clock())+98750\n",
    "    b = a + 98756465\n",
    "    m = 900217*int(time.clock())+900217\n",
    "    rList = []\n",
    "    for i in range(n):\n",
    "        \n",
    "        Xn = float((a*lastXn + b)% m)\n",
    "        lastXn = Xn\n",
    "        random = float(Xn/m)\n",
    "        rList.append(random)\n",
    "        \n",
    "    return rList\n",
    "\n",
    "def distAcum(x, px):\n",
    "    \n",
    "    Px = []\n",
    "    suma = 0\n",
    "    for i in range(len(x)):\n",
    "        Px.append(suma + px[i])\n",
    "        suma = suma + px[i]\n",
    "    \n",
    "    return Px\n",
    "\n",
    "def genVAD(n, x, px):\n",
    "    #print x\n",
    "    dAcum = distAcum (x,px)\n",
    "    #print dAcum\n",
    "    rList = random(n)\n",
    "    #print rList\n",
    "    xList = []\n",
    "    c = 0\n",
    "    for i in rList:\n",
    "        for d in range(len(dAcum)):\n",
    "            if (i<=dAcum[d]):\n",
    "                xList.append(x[d])\n",
    "                break\n",
    "    print xList \n",
    "    graficarHistograma(xList)\n",
    "    \n",
    "def graficarHistograma(randomList):\n",
    "\n",
    "    plt.hist(randomList)\n",
    "    plt.title(\"Histograma\")\n",
    "    plt.xlabel(\"Numero\")\n",
    "    plt.ylabel(\"Frecuencia\")\n",
    "    fig = plt.gcf()\n",
    "    plt.show()\n",
    "    \n",
    "def main():\n",
    "    # x and px should obviously have same length. DAhhh. Don't be so obvious. Dahhhh.\n",
    "    x = [1,2,3,4,5,6]\n",
    "    px = [0.1666666666666666666667,0.1666666666666666666667,0.1666666666666666666667,\n",
    "          0.1666666666666666666667,0.1666666666666666666667,0.1666666666666666666667 ]\n",
    "    n = int( raw_input('How many times do you want to roll the dice?'))\n",
    "    genVAD(n,x,px)\n",
    "    \n",
    "main()\n",
    "    "
   ]
  },
  {
   "cell_type": "code",
   "execution_count": null,
   "metadata": {
    "collapsed": true
   },
   "outputs": [],
   "source": []
  },
  {
   "cell_type": "code",
   "execution_count": null,
   "metadata": {
    "collapsed": true
   },
   "outputs": [],
   "source": []
  },
  {
   "cell_type": "code",
   "execution_count": null,
   "metadata": {
    "collapsed": true
   },
   "outputs": [],
   "source": []
  }
 ],
 "metadata": {
  "kernelspec": {
   "display_name": "Python 2",
   "language": "python",
   "name": "python2"
  },
  "language_info": {
   "codemirror_mode": {
    "name": "ipython",
    "version": 2
   },
   "file_extension": ".py",
   "mimetype": "text/x-python",
   "name": "python",
   "nbconvert_exporter": "python",
   "pygments_lexer": "ipython2",
   "version": "2.7.11"
  }
 },
 "nbformat": 4,
 "nbformat_minor": 0
}
