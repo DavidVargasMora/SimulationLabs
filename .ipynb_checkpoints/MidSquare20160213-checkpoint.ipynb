{
 "cells": [
  {
   "cell_type": "code",
   "execution_count": 25,
   "metadata": {
    "collapsed": false
   },
   "outputs": [
    {
     "name": "stdout",
     "output_type": "stream",
     "text": [
      "Please input the seed number:23\n",
      "Please input the amount of random numbers you want to generate:3\n",
      "0.52\n",
      "0.70\n",
      "0.90\n"
     ]
    }
   ],
   "source": [
    "try:\n",
    "    seed=int(raw_input('Please input the seed number:'))\n",
    "    if(len(str(seed))%2 == 0):\n",
    "        try:\n",
    "            n=int(raw_input('Please input the amount of random numbers you want to generate:'))\n",
    "            for i in range(n):\n",
    "                random = str(seed*seed)\n",
    "                #print random\n",
    "                if not(len(str(random))%4 == 0):\n",
    "                    random = \"0\"+str(random)\n",
    "                #print random\n",
    "                random = random[len(str(seed))/2:-len(str(seed))/2]\n",
    "                #print random\n",
    "                seed = int(random)\n",
    "                random = \"0.\"+random\n",
    "                print random\n",
    "        except ValueError:\n",
    "            print \"Not a number\"\n",
    "    else:\n",
    "        print \"Seed must have a 2n length\"\n",
    "except ValueError:\n",
    "    print \"Not a number\"\n",
    "\n"
   ]
  },
  {
   "cell_type": "code",
   "execution_count": null,
   "metadata": {
    "collapsed": true
   },
   "outputs": [],
   "source": []
  },
  {
   "cell_type": "code",
   "execution_count": null,
   "metadata": {
    "collapsed": true
   },
   "outputs": [],
   "source": []
  },
  {
   "cell_type": "code",
   "execution_count": null,
   "metadata": {
    "collapsed": true
   },
   "outputs": [],
   "source": []
  }
 ],
 "metadata": {
  "kernelspec": {
   "display_name": "Python 2",
   "language": "python",
   "name": "python2"
  },
  "language_info": {
   "codemirror_mode": {
    "name": "ipython",
    "version": 2
   },
   "file_extension": ".py",
   "mimetype": "text/x-python",
   "name": "python",
   "nbconvert_exporter": "python",
   "pygments_lexer": "ipython2",
   "version": "2.7.11"
  }
 },
 "nbformat": 4,
 "nbformat_minor": 0
}
