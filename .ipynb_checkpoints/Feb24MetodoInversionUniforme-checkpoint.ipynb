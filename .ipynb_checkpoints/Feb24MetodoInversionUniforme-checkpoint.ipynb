{
 "cells": [
  {
   "cell_type": "code",
   "execution_count": null,
   "metadata": {
    "collapsed": false
   },
   "outputs": [],
   "source": [
    "import time\n",
    "def random(n):\n",
    "    \n",
    "    lastXn = 31\n",
    "    a = lastXn*int(time.clock())\n",
    "    b = a + 98756465\n",
    "    m = 900217*int(time.clock())\n",
    "    rList = []\n",
    "    for i in range(n):\n",
    "        \n",
    "        Xn = float((a*lastXn + b)% m)\n",
    "        lastXn = Xn\n",
    "        random = float(Xn/m)\n",
    "        rList.append(random)\n",
    "        \n",
    "    return rList\n",
    "\n",
    "def genVAD(n, x, px):\n",
    "    #print x\n",
    "    dAcum = distAcum (x,px)\n",
    "    #print dAcum\n",
    "    rList = random(n)\n",
    "    #print rList\n",
    "    xList = []\n",
    "    c = 0\n",
    "    for i in rList:\n",
    "        for d in range(len(dAcum)):\n",
    "            if (i<=dAcum[d]):\n",
    "                xList.append(x[d])\n",
    "                break\n",
    "    print xList  \n",
    "      \n",
    "def distAcum(x, px):\n",
    "    \n",
    "    Px = []\n",
    "    suma = 0\n",
    "    for i in range(len(x)):\n",
    "        Px.append(suma + px[i])\n",
    "        suma = suma + px[i]\n",
    "    \n",
    "    return Px\n",
    "    \n",
    "def main():\n",
    "    # x and px should obviously have same length. DAhhh. Don't be so obvious. Dahhhh.\n",
    "    x = [1,2,3,4,5,6]\n",
    "    px = [0.1666666666666666666667,0.1666666666666666666667,0.1666666666666666666667,0.1666666666666666666667,0.1666666666666666666667,0.1666666666666666666667 ]\n",
    "    n = int( raw_input('How many times do you want to roll the dice?'))\n",
    "    genVAD(n,x,px)\n",
    "    \n",
    "main()\n",
    "    "
   ]
  },
  {
   "cell_type": "code",
   "execution_count": null,
   "metadata": {
    "collapsed": true
   },
   "outputs": [],
   "source": []
  },
  {
   "cell_type": "code",
   "execution_count": null,
   "metadata": {
    "collapsed": true
   },
   "outputs": [],
   "source": []
  },
  {
   "cell_type": "code",
   "execution_count": null,
   "metadata": {
    "collapsed": true
   },
   "outputs": [],
   "source": []
  }
 ],
 "metadata": {
  "kernelspec": {
   "display_name": "Python 2",
   "language": "python",
   "name": "python2"
  },
  "language_info": {
   "codemirror_mode": {
    "name": "ipython",
    "version": 2
   },
   "file_extension": ".py",
   "mimetype": "text/x-python",
   "name": "python",
   "nbconvert_exporter": "python",
   "pygments_lexer": "ipython2",
   "version": "2.7.11"
  }
 },
 "nbformat": 4,
 "nbformat_minor": 0
}
