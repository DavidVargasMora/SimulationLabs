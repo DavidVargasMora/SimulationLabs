{
 "cells": [
  {
   "cell_type": "code",
   "execution_count": 1,
   "metadata": {
    "collapsed": false
   },
   "outputs": [
    {
     "name": "stdout",
     "output_type": "stream",
     "text": [
      "Please input the seed number (It should be an odd number):7\n",
      "Please input the amount of random numbers you want to generate:10\n",
      "Used parameters: \n",
      "a = 55 b = 221 m = 900217\n",
      "Random numbers generated: \n",
      "0.00067317102432\n",
      "0.0372699027012\n",
      "0.0500901449317\n",
      "0.755203467608\n",
      "0.536436214824\n",
      "0.50423731167\n",
      "0.733297638236\n",
      "0.33161559935\n",
      "0.23910346061\n",
      "0.150935829917\n"
     ]
    }
   ],
   "source": [
    "import random\n",
    "try:\n",
    "    seed=int(raw_input('Please input the seed number (It should be an odd number):'))\n",
    "    if(len(str(seed))%2 != 0):\n",
    "        try:\n",
    "            n=int(raw_input('Please input the amount of random numbers you want to generate:'))\n",
    "            a = 55 #We genearte \"any\" integer.\n",
    "            b = 221\n",
    "            m = 900217\n",
    "            lastXn = 7\n",
    "            print \"Used parameters: \"\n",
    "            print \"a = \"+str(a)+\" b = \"+str(b)+\" m = \"+str(m)\n",
    "            print \"Random numbers generated: \"\n",
    "            for i in range(n):\n",
    "                Xn = float((a*lastXn + b)% m)\n",
    "                #print Xn\n",
    "                lastXn = Xn\n",
    "                random = float(Xn/m)\n",
    "                print random\n",
    "        except ValueError:\n",
    "            print \"Not a number\"\n",
    "    else:\n",
    "        print \"Seed must be an odd number\"\n",
    "except ValueError:\n",
    "    print \"Not a number\"\n",
    "    "
   ]
  },
  {
   "cell_type": "code",
   "execution_count": null,
   "metadata": {
    "collapsed": true
   },
   "outputs": [],
   "source": []
  }
 ],
 "metadata": {
  "kernelspec": {
   "display_name": "Python 2",
   "language": "python",
   "name": "python2"
  },
  "language_info": {
   "codemirror_mode": {
    "name": "ipython",
    "version": 2
   },
   "file_extension": ".py",
   "mimetype": "text/x-python",
   "name": "python",
   "nbconvert_exporter": "python",
   "pygments_lexer": "ipython2",
   "version": "2.7.11"
  }
 },
 "nbformat": 4,
 "nbformat_minor": 0
}
