{
 "cells": [
  {
   "cell_type": "code",
   "execution_count": 41,
   "metadata": {
    "collapsed": false
   },
   "outputs": [
    {
     "name": "stdout",
     "output_type": "stream",
     "text": [
      "Variable aleatoria: suma de dados\n",
      "x =  [2, 3, 4, 5, 6, 7, 8, 9, 10, 11, 12, 13, 14, 15, 16, 17, 18, 19, 20, 21]\n",
      "\n",
      "px =  [0.0738, 0.0488, 0.0312, 0.0802, 0.018, 0.0562, 0.0684, 0.0094, 0.069, 0.0384, 0.038, 0.0812, 0.012, 0.066, 0.0634, 0.0212, 0.0718, 0.027, 0.0476, 0.0784]\n",
      "\n",
      "Px =  [0.0738, 0.12260000000000001, 0.15380000000000002, 0.234, 0.252, 0.30820000000000003, 0.37660000000000005, 0.38600000000000007, 0.45500000000000007, 0.49340000000000006, 0.5314000000000001, 0.6126, 0.6246, 0.6906000000000001, 0.7540000000000001, 0.7752000000000001, 0.8470000000000001, 0.8740000000000001, 0.9216000000000001, 1.0]\n",
      "\n",
      "Valor esperado:  11.5136\n"
     ]
    },
    {
     "data": {
      "image/png": "[encoded data removed]",
      "text/plain": [
       "<matplotlib.figure.Figure at 0x7a3cac8>"
      ]
     },
     "metadata": {},
     "output_type": "display_data"
    }
   ],
   "source": [
    "%matplotlib inline\n",
    "import matplotlib.pyplot as plt\n",
    "import time\n",
    "import math\n",
    "def random(n):\n",
    "    \n",
    "    lastXn = int(time.clock())+7897857\n",
    "    a = lastXn*8\n",
    "    b = a + 98756465\n",
    "    m = 900217+int(time.clock())\n",
    "    rList = []\n",
    "    for i in range(n):\n",
    "        \n",
    "        Xn = float((a*lastXn + b)% m)\n",
    "        lastXn = Xn\n",
    "        random = float(Xn/m)\n",
    "        rList.append(random)\n",
    "    return rList\n",
    "\n",
    "def genVAD(n, x, px):\n",
    "    \n",
    "    dAcum = distAcum (x,px)\n",
    "    rList = random(n)\n",
    "    xList = []\n",
    "    for i in rList:\n",
    "        for j in range(len(dAcum)):\n",
    "            if(i <= dAcum[j]):\n",
    "                xList.append(x[j])\n",
    "                break\n",
    "    #print \"Generated numbers: \"\n",
    "    #plt.hist(xList)\n",
    "    #print xList\n",
    "    return xList\n",
    "    \n",
    "      \n",
    "def distAcum(x, px):\n",
    "    \n",
    "    Px = []\n",
    "    suma = 0\n",
    "    for i in range(len(x)):\n",
    "        Px.append(suma + px[i])\n",
    "        suma = suma + px[i]\n",
    "    return Px\n",
    "\n",
    "def valorEsperado(x,px):\n",
    "    esperanza = 0\n",
    "    for i in range(len(x)):\n",
    "        esperanza += float(x[i]*px[i])\n",
    "    print 'Valor esperado: ', esperanza\n",
    "    \n",
    "def sumaDados():\n",
    "    \n",
    "    x8 = [1, 2, 3, 4, 5, 6, 7, 8]\n",
    "    px8 = [0.125, 0.125, 0.125, 0.125, 0.125, 0.125, 0.125, 0.125]\n",
    "    x13 = [1, 2, 3, 4, 5, 6, 7, 8, 9, 10, 11, 12, 13]\n",
    "    px13 = [0.076923, 0.076923, 0.076923, 0.076923, 0.076923, 0.076923, 0.076923, 0.076923, 0.076923, 0.076923, \n",
    "            0.076923, 0.076923, 0.076923]\n",
    "    x8List = genVAD(5000, x8, px8)\n",
    "    x13List = genVAD(5000, x13, px13)\n",
    "    xList = []\n",
    "    for i in range(5000):\n",
    "        xList.append(x8List[i] + x13List[i])\n",
    "    #print \"Suma de los dados.\"\n",
    "    #print xList\n",
    "    \n",
    "    #Impresion del histograma\n",
    "    plt.hist(xList)\n",
    "    \n",
    "    #Ahora obtenemos los parametros de la nueva variable aleatoria:\n",
    "    x21 = [2, 3, 4, 5, 6, 7, 8, 9, 10, 11, 12, 13, 14, 15, 16, 17, 18, 19, 20, 21]\n",
    "    px21 = [0,0,0,0,0,0,0,0,0,0,0,0,0,0,0,0,0,0,0,0]\n",
    "    for i in xList:\n",
    "        for j in range(len(x21)):\n",
    "            if(i==x21[j]):\n",
    "                px21[j] += 1\n",
    "    print \"Variable aleatoria: suma de dados\"  \n",
    "    print \"x = \",x21\n",
    "    print \"\"\n",
    "    for i in range(len(px21)):\n",
    "        px21[i] = float(px21[i])/5000\n",
    "    print \"px = \",px21\n",
    "    print \"\"\n",
    "    Px = distAcum(x21, px21)\n",
    "    print \"Px = \",Px\n",
    "    print \"\"\n",
    "    valorEsperado(x21, px21)\n",
    "def main():\n",
    "    sumaDados()\n",
    "\n",
    "main()"
   ]
  },
  {
   "cell_type": "code",
   "execution_count": null,
   "metadata": {
    "collapsed": true
   },
   "outputs": [],
   "source": []
  },
  {
   "cell_type": "code",
   "execution_count": null,
   "metadata": {
    "collapsed": true
   },
   "outputs": [],
   "source": []
  }
 ],
 "metadata": {
  "kernelspec": {
   "display_name": "Python 2",
   "language": "python",
   "name": "python2"
  },
  "language_info": {
   "codemirror_mode": {
    "name": "ipython",
    "version": 2
   },
   "file_extension": ".py",
   "mimetype": "text/x-python",
   "name": "python",
   "nbconvert_exporter": "python",
   "pygments_lexer": "ipython2",
   "version": "2.7.11"
  }
 },
 "nbformat": 4,
 "nbformat_minor": 0
}
