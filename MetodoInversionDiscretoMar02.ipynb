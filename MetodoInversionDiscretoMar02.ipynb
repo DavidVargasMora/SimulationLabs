{
 "cells": [
  {
   "cell_type": "code",
   "execution_count": 5,
   "metadata": {
    "collapsed": false
   },
   "outputs": [
    {
     "name": "stdout",
     "output_type": "stream",
     "text": [
      "Input the total number of population elements N:100\n",
      "Input the number of sample elements: 10\n",
      "Input the number of elements that belong to the wanted class: 65\n",
      "Please input the amount of random numbers to generate: 100\n",
      "Generated numbers: \n",
      "[5, 8, 7, 7, 7, 7, 4, 6, 8, 8, 7, 7, 7, 7, 7, 8, 7, 8, 7, 5, 10, 4, 8, 7, 8, 5, 8, 6, 7, 6, 7, 5, 7, 3, 8, 8, 5, 8, 8, 7, 7, 6, 4, 8, 7, 4, 6, 7, 5, 6, 4, 5, 7, 4, 8, 6, 5, 7, 10, 4, 6, 9, 6, 4, 5, 7, 7, 6, 6, 5, 9, 6, 6, 4, 6, 7, 9, 5, 6, 5, 5, 9, 8, 9, 9, 5, 7, 4, 7, 9, 6, 9, 8, 5, 5, 6, 6, 5, 8, 6]\n"
     ]
    },
    {
     "data": {
      "image/png": "[encoded data removed]",
      "text/plain": [
       "<matplotlib.figure.Figure at 0x3e580f0>"
      ]
     },
     "metadata": {},
     "output_type": "display_data"
    }
   ],
   "source": [
    "%matplotlib inline\n",
    "import matplotlib.pyplot as plt\n",
    "import time\n",
    "import math\n",
    "def random(n):\n",
    "    \n",
    "    lastXn = int(time.clock())+7897857\n",
    "    a = lastXn*8\n",
    "    b = a + 98756465\n",
    "    m = 900217+int(time.clock())\n",
    "    rList = []\n",
    "    for i in range(n):\n",
    "        \n",
    "        Xn = float((a*lastXn + b)% m)\n",
    "        lastXn = Xn\n",
    "        random = float(Xn/m)\n",
    "        rList.append(random)\n",
    "    return rList\n",
    "\n",
    "def genVAD(n, x, px):\n",
    "    \n",
    "    dAcum = distAcum (x,px)\n",
    "    rList = random(n)\n",
    "    xList = []\n",
    "    for i in rList:\n",
    "        for j in range(len(dAcum)):\n",
    "            if(i <= dAcum[j]):\n",
    "                xList.append(x[j])\n",
    "                break\n",
    "    print \"Generated numbers: \"\n",
    "    print xList\n",
    "    plt.hist(xList)\n",
    "      \n",
    "def distAcum(x, px):\n",
    "    \n",
    "    Px = []\n",
    "    suma = 0\n",
    "    for i in range(len(x)):\n",
    "        Px.append(suma + px[i])\n",
    "        suma = suma + px[i]\n",
    "    return Px\n",
    "\n",
    "def genBernoulli(p):\n",
    "    # p = success probability\n",
    "    x = [0,1]\n",
    "    px = [(1-p),p]\n",
    "    return x,px\n",
    "\n",
    "def genBinomial(ni,p):\n",
    "    # ni = number of attempts\n",
    "    # p = success probability for each attempt\n",
    "    x = []\n",
    "    px = []\n",
    "    for i in range(ni):\n",
    "        x.append(i)\n",
    "    for i in range(ni):\n",
    "        pi = (math.factorial(ni)/(math.factorial(x[i])*math.factorial(ni-x[i])))*(p**x[i])*((1-p)**(ni-x[i]))\n",
    "        px.append(pi)\n",
    "        print px\n",
    "    \n",
    "    return x,px\n",
    "\n",
    "def genHiperGeometrica(N, nm, d):\n",
    "    # N = Total number of the population\n",
    "    # n = Size of the extracted sample\n",
    "    # d = Number of elements in N that belong to the class we are looking for.\n",
    "    # x = Number of elements in n that belong to d\n",
    "    x = []\n",
    "    px = []\n",
    "    c = 0\n",
    "    while(c<=d):\n",
    "        x.append(c)\n",
    "        c = c+1\n",
    "    for i in x:\n",
    "        if(i>nm):\n",
    "            pi = 0\n",
    "        else:\n",
    "            pi = (float(math.factorial(d)/(math.factorial(i)*math.factorial(d-i)))*float(math.factorial(N-d)\n",
    "                /(math.factorial(nm-i)*math.factorial(N-d-nm+i))))/float(math.factorial(N)\n",
    "                                                                         /(math.factorial(nm)*math.factorial(N-nm)))\n",
    "\n",
    "        px.append(pi)\n",
    "    return x,px\n",
    "    \n",
    "def main():\n",
    "    #Distribucion de Bernoulli\n",
    "    '''\n",
    "    p = float(raw_input('Please input the p value: ')) #p value should be between 0 and 1\n",
    "    x, px = genBernoulli(p)\n",
    "    n = int(raw_input('Please input the amount of random numbers to generate: '))\n",
    "    genVAD(n,x,px)\n",
    "    '''\n",
    "    #Distribucion Binomial\n",
    "    '''\n",
    "    p = float(raw_input('Please input the p value: ')) #p value should be between 0 and 1\n",
    "    ni = int(raw_input('Please input the n value: '))\n",
    "    x, px = genBinomial(ni,p)\n",
    "    n = int(raw_input('Please input the amount of random numbers to generate: '))\n",
    "    genVAD(n,x,px)\n",
    "    '''\n",
    "    #Distrubcion Hipergeometrica\n",
    "    N = int(raw_input('Input the total number of population elements N:'))\n",
    "    nm = int(raw_input('Input the number of sample elements: '))\n",
    "    d = int(raw_input('Input the number of elements that belong to the wanted class: '))\n",
    "    x, px = genHiperGeometrica(N, nm, d)\n",
    "    n = int(raw_input('Please input the amount of random numbers to generate: '))\n",
    "    genVAD(n,x,px) \n",
    "    \n",
    "       \n",
    "main()"
   ]
  },
  {
   "cell_type": "code",
   "execution_count": null,
   "metadata": {
    "collapsed": true
   },
   "outputs": [],
   "source": []
  }
 ],
 "metadata": {
  "kernelspec": {
   "display_name": "Python 2",
   "language": "python",
   "name": "python2"
  },
  "language_info": {
   "codemirror_mode": {
    "name": "ipython",
    "version": 2
   },
   "file_extension": ".py",
   "mimetype": "text/x-python",
   "name": "python",
   "nbconvert_exporter": "python",
   "pygments_lexer": "ipython2",
   "version": "2.7.11"
  }
 },
 "nbformat": 4,
 "nbformat_minor": 0
}
