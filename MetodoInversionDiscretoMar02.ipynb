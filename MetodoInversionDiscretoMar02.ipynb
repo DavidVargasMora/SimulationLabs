{
 "cells": [
  {
   "cell_type": "code",
   "execution_count": 10,
   "metadata": {
    "collapsed": false
   },
   "outputs": [
    {
     "name": "stdout",
     "output_type": "stream",
     "text": [
      "Please input the p value: 0.45\n",
      "Please input the n value: 100\n",
      "Please input the amount of random numbers to generate: 1000\n"
     ]
    },
    {
     "data": {
      "image/png": "[encoded data removed]",
      "text/plain": [
       "<matplotlib.figure.Figure at 0x3fb2470>"
      ]
     },
     "metadata": {},
     "output_type": "display_data"
    }
   ],
   "source": [
    "%matplotlib inline\n",
    "import matplotlib.pyplot as plt\n",
    "import time\n",
    "import math\n",
    "def random(n):\n",
    "    \n",
    "    lastXn = int(time.clock())+7897857\n",
    "    a = lastXn*8\n",
    "    b = a + 98756465\n",
    "    m = 900217+int(time.clock())\n",
    "    rList = []\n",
    "    for i in range(n):\n",
    "        \n",
    "        Xn = float((a*lastXn + b)% m)\n",
    "        lastXn = Xn\n",
    "        random = float(Xn/m)\n",
    "        rList.append(random)\n",
    "        #plt.hist(rList)\n",
    "    return rList\n",
    "\n",
    "\n",
    "def genVAD(n, x, px):\n",
    "    \n",
    "    dAcum = distAcum (x,px)\n",
    "    rList = random(n)\n",
    "    xList = []\n",
    "    for i in rList:\n",
    "        for j in range(len(dAcum)):\n",
    "            if(i <= dAcum[j]):\n",
    "                xList.append(x[j])\n",
    "                break\n",
    "           \n",
    "    #print xList  \n",
    "    plt.hist(xList)\n",
    "      \n",
    "def distAcum(x, px):\n",
    "    \n",
    "    Px = []\n",
    "    suma = 0\n",
    "    for i in range(len(x)):\n",
    "        Px.append(suma + px[i])\n",
    "        suma = suma + px[i]\n",
    "    return Px\n",
    "\n",
    "def genBernoulli(p):\n",
    "    x = [0,1]\n",
    "    px = [(1-p),p]\n",
    "    return x,px\n",
    "\n",
    "def genBinomial(ni,p):\n",
    "    x = []\n",
    "    px = []\n",
    "    for i in range(ni):\n",
    "        x.append(i)\n",
    "    suma = 0\n",
    "    for i in range(ni):\n",
    "        pi = (math.factorial(ni)/(math.factorial(x[i])*math.factorial(ni-x[i])))*(p**x[i])*((1-p)**(ni-x[i]))\n",
    "        suma = suma + pi\n",
    "        px.append(pi)\n",
    "    #print x\n",
    "    #print px\n",
    "    #print suma\n",
    "    return x,px\n",
    "    \n",
    "def main():\n",
    "    '''\n",
    "    p = float(raw_input('Please input the p value: ')) #p value should be between 0 and 1\n",
    "    x, px = genBernoulli(p)\n",
    "    print x\n",
    "    print px\n",
    "    n = int(raw_input('Please input the amount of random numbers to generate: '))\n",
    "    genVAD(n,x,px)\n",
    "    '''\n",
    "    p = float(raw_input('Please input the p value: ')) #p value should be between 0 and 1\n",
    "    ni = int(raw_input('Please input the n value: '))\n",
    "    x, px = genBinomial(ni,p)\n",
    "    n = int(raw_input('Please input the amount of random numbers to generate: '))\n",
    "    genVAD(n,x,px)\n",
    "       \n",
    "main()"
   ]
  },
  {
   "cell_type": "code",
   "execution_count": null,
   "metadata": {
    "collapsed": true
   },
   "outputs": [],
   "source": []
  }
 ],
 "metadata": {
  "kernelspec": {
   "display_name": "Python 2",
   "language": "python",
   "name": "python2"
  },
  "language_info": {
   "codemirror_mode": {
    "name": "ipython",
    "version": 2
   },
   "file_extension": ".py",
   "mimetype": "text/x-python",
   "name": "python",
   "nbconvert_exporter": "python",
   "pygments_lexer": "ipython2",
   "version": "2.7.10"
  }
 },
 "nbformat": 4,
 "nbformat_minor": 0
}
